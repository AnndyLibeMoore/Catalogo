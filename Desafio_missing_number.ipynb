{
  "nbformat": 4,
  "nbformat_minor": 0,
  "metadata": {
    "colab": {
      "provenance": [],
      "authorship_tag": "ABX9TyMcBqkLGvVPqsxvKz1CMu3Q",
      "include_colab_link": true
    },
    "kernelspec": {
      "name": "python3",
      "display_name": "Python 3"
    },
    "language_info": {
      "name": "python"
    }
  },
  "cells": [
    {
      "cell_type": "markdown",
      "metadata": {
        "id": "view-in-github",
        "colab_type": "text"
      },
      "source": [
        "<a href=\"https://colab.research.google.com/github/AnndyLibeMoore/Catalogo/blob/main/Desafio_missing_number.ipynb\" target=\"_parent\"><img src=\"https://colab.research.google.com/assets/colab-badge.svg\" alt=\"Open In Colab\"/></a>"
      ]
    },
    {
      "cell_type": "markdown",
      "source": [
        "En el siguiente código:\n",
        "\n",
        "* Creamos la función que como parámetro recibira la lista dada\n",
        "* Verificamos que senos haya dado una lista sino devolveremos None\n",
        "* obtendremos el número mayor y menor de la lista\n",
        "* Con set crearemos un conjunto de números que ira desde el min número recibido en la lista hasta el max, este conjunto tendra todos los números que debrian haber.\n",
        "* Despues se toma la lista recibida y con set la convertimos en un conjunto\n",
        "* por último restamos ambos conjuntos,, asi los comparamos y obtenemos los números faltantes\n",
        "* se retorna entonces los faltantes o None en caso de no existir faltantes"
      ],
      "metadata": {
        "id": "2RFl7etMSv8N"
      }
    },
    {
      "cell_type": "code",
      "execution_count": 82,
      "metadata": {
        "id": "RkdYSy6GKlkN"
      },
      "outputs": [],
      "source": [
        "\n",
        "def find_missing_number(lista):\n",
        "  \"\"\"\n",
        "   Encuentra el número faltante en una secuencia de números enteros consecutivos.\n",
        "\n",
        "    Args:\n",
        "    numbers (list): Lista de números enteros consecutivos con un número faltante.\n",
        "\n",
        "    Returns:\n",
        "    int: El número faltante en la secuencia.\n",
        "    None: Si la lista está vacía o no hay número faltante.\n",
        "\n",
        "    Ejemplo:\n",
        "    >>> find_missing_number([5, 6, 8])\n",
        "    7\n",
        "  \"\"\"\n",
        "\n",
        "  if not lista:\n",
        "    return None\n",
        "\n",
        "  max_num = max(lista)\n",
        "  min_num = min(lista)\n",
        "\n",
        "  lista_generada = set(range(min_num, max_num +1))\n",
        "  lista_recibida = set(lista)\n",
        "\n",
        "  faltantes = lista_generada - lista_recibida\n",
        "\n",
        "  return list(faltantes) if faltantes else None"
      ]
    },
    {
      "cell_type": "code",
      "source": [
        "lista = [-1,-3, 0, 2, 6,3, 4,]"
      ],
      "metadata": {
        "id": "4llMDdzuKpUF"
      },
      "execution_count": 85,
      "outputs": []
    },
    {
      "cell_type": "code",
      "source": [
        "faltantes = find_missing_number(lista)\n",
        "print(faltantes)"
      ],
      "metadata": {
        "colab": {
          "base_uri": "https://localhost:8080/"
        },
        "id": "Owti_ho7NNB0",
        "outputId": "5c4bf1dc-1f20-4ed3-8303-290b539c4f3e"
      },
      "execution_count": 86,
      "outputs": [
        {
          "output_type": "stream",
          "name": "stdout",
          "text": [
            "[1, 5, -2]\n"
          ]
        }
      ]
    },
    {
      "cell_type": "code",
      "source": [],
      "metadata": {
        "id": "LAHABRw1NQqu"
      },
      "execution_count": null,
      "outputs": []
    }
  ]
}