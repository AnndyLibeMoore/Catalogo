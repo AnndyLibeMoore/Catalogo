{
  "nbformat": 4,
  "nbformat_minor": 0,
  "metadata": {
    "colab": {
      "provenance": [],
      "authorship_tag": "ABX9TyM0meIeo6dysVEm8Bca7dVz",
      "include_colab_link": true
    },
    "kernelspec": {
      "name": "python3",
      "display_name": "Python 3"
    },
    "language_info": {
      "name": "python"
    }
  },
  "cells": [
    {
      "cell_type": "markdown",
      "metadata": {
        "id": "view-in-github",
        "colab_type": "text"
      },
      "source": [
        "<a href=\"https://colab.research.google.com/github/AnndyLibeMoore/Catalogo/blob/main/3_0_Desafio2_Febrero_cadena_balanceada.ipynb\" target=\"_parent\"><img src=\"https://colab.research.google.com/assets/colab-badge.svg\" alt=\"Open In Colab\"/></a>"
      ]
    },
    {
      "cell_type": "code",
      "source": [
        "apertura = {'(', '[', '{'}  # Conjunto de caracteres de apertura\n",
        "cierre = {')', ']', '}'}    # Conjunto de caracteres de cierre\n",
        "\n",
        "def cadena_balanceada(cadena):\n",
        "  if not cadena:\n",
        "    return False\n",
        "  pila =[]                                       #creamos una pila vacia\n",
        "  elementos= {'(':')', '[':']', '{':'}'}         #definimos el diccionario con sus keys y values\n",
        "\n",
        "  for i in cadena:                               #recorremos la cadena\n",
        "    if i in apertura:                           #si el elemento es de apertura\n",
        "      pila.append(i)                             #lo agregamos a la pila\n",
        "    elif i in cierre:                            #si es de cierre\n",
        "      if not pila:                               #verificamos la pila y si esta vacia significa que este cierre no tiene apertura por tanto\n",
        "        return False                             #no esta balanceado por que falta un elemento de apertura\n",
        "      ultimo_apertura = pila.pop()                #tomamos el último elemento de apertura y lo mostramos y sacamos de la pila con pop\n",
        "      if elementos[ultimo_apertura] != i:         #accedemos al diccionario  usando ultimo_apertura como clave, con esa clave obtenemos el cierre que le corresponde y que estara en elmentos[ultimo_apertura]\n",
        "                                                 #y ahora tengo que verificar que esa cierre obtenido sea igual a i que representa el caracter de la cadena recibida\n",
        "        return False                           #si no es asi, y es diferente entonces la cadena no esta blanceada\n",
        "  if not pila:                               #al finalizar las comparaciones si la fila esta vacia o sea ya no hay pila\n",
        "    return True                               #entonces la cadena esta balanceada\n",
        "  else:\n",
        "    return False                              #si no esta vacía la cadena no esta balanceada\n",
        ""
      ],
      "metadata": {
        "id": "02_Q5RcHheTX"
      },
      "execution_count": 17,
      "outputs": []
    },
    {
      "cell_type": "markdown",
      "source": [
        "\"\"\"\n",
        "if elementos[ultimo_apertura] != i::\n",
        "\n",
        "elementos[ultimo_apertura]: Aquí estamos accediendo al diccionario **elementos** usando *ultimo_apertura* como clave. Así **elementos** mapea cada símbolo de apertura ((, [, {) a su correspondiente símbolo de cierre (), ], }). Por ejemplo, si ultimo_apertura es (, entonces elementos[ultimo_apertura] devuelve ).\n",
        "Así obtenemos con elementos[ultimo_apertura] (que es la clave), obtenemos el value que le corresponde y asi ya podemos compararlo con i.\n",
        "\n",
        "i: Es el carácter actual de la cadena recibida por el usuario que estamos recorriendo. En este caso seria un símbolo de cierre (por ejemplo, ), ], o }).\n",
        "\n",
        "Entonces comparamos si i corresponde o no al value que obtuvimos de elementos[ultimo_apertura] y si no corresponde pues no esta balanceado."
      ],
      "metadata": {
        "id": "w1eebmks9eyd"
      }
    },
    {
      "cell_type": "code",
      "source": [
        "cadena = \"[])\"\n",
        "cadena_balanceada(cadena)"
      ],
      "metadata": {
        "colab": {
          "base_uri": "https://localhost:8080/"
        },
        "id": "tCUKF5APuyDZ",
        "outputId": "be362aa9-b244-4a5d-90f8-4cdf5d605175"
      },
      "execution_count": 18,
      "outputs": [
        {
          "output_type": "execute_result",
          "data": {
            "text/plain": [
              "False"
            ]
          },
          "metadata": {},
          "execution_count": 18
        }
      ]
    },
    {
      "cell_type": "code",
      "source": [],
      "metadata": {
        "id": "3ZFQpPH_heH7"
      },
      "execution_count": null,
      "outputs": []
    },
    {
      "cell_type": "code",
      "source": [],
      "metadata": {
        "id": "Bj0mA7oOheDp"
      },
      "execution_count": null,
      "outputs": []
    },
    {
      "cell_type": "code",
      "execution_count": null,
      "metadata": {
        "id": "8CkCs0eoaUoY"
      },
      "outputs": [],
      "source": [
        "\"\"\"\n",
        "def cadena_balanceada(cadena):\n",
        "    pila = []  # Crear una pila vacía\n",
        "    elementos = {'(': ')', '[': ']', '{': '}'}  # Diccionario para mapear aperturas con cierres\n",
        "\n",
        "    for i in cadena:\n",
        "        if i in elementos:  # Si es un carácter de apertura\n",
        "            pila.append(i)  # Lo agregamos a la pila\n",
        "        elif i in elementos.values():  # Si es un carácter de cierre\n",
        "            if not pila:  # Si la pila está vacía\n",
        "                return \"Cadena no balanceada: paréntesis, corchetes o llaves sin abrir.\"\n",
        "            ultimo_apertura = pila.pop()  # Sacamos el último carácter de apertura de la pila\n",
        "            if elementos[ultimo_apertura] != i:  # Verificamos si coincide con el cierre\n",
        "                return \"Cadena no balanceada: orden incorrecto.\"\n",
        "\n",
        "    # Al final, si la pila está vacía, la cadena está balanceada\n",
        "    return \"Cadena balanceada.\" if not pila else \"Cadena no balanceada: paréntesis, corchetes o llaves sin cerrar.\"\n",
        "\"\"\"\n"
      ]
    }
  ]
}