{
  "nbformat": 4,
  "nbformat_minor": 0,
  "metadata": {
    "colab": {
      "provenance": [],
      "authorship_tag": "ABX9TyOMS4jJo8OJ+fxiCSi0Ilq9",
      "include_colab_link": true
    },
    "kernelspec": {
      "name": "python3",
      "display_name": "Python 3"
    },
    "language_info": {
      "name": "python"
    }
  },
  "cells": [
    {
      "cell_type": "markdown",
      "metadata": {
        "id": "view-in-github",
        "colab_type": "text"
      },
      "source": [
        "<a href=\"https://colab.research.google.com/github/AnndyLibeMoore/Catalogo/blob/main/Desafio_python.ipynb\" target=\"_parent\"><img src=\"https://colab.research.google.com/assets/colab-badge.svg\" alt=\"Open In Colab\"/></a>"
      ]
    },
    {
      "cell_type": "markdown",
      "source": [
        "En el siguiente código:\n",
        "\n",
        "* Primero se creo una lista vacia que sera la que contendra los\n",
        "números faltantes.\n",
        "* Creamos la función que como parámetro recibira lalista dada\n",
        "* ordenamos la lista\n",
        "* obtendremos el número mayor y menor de la lista\n",
        "* Iteramos la lista con un range que ira de menor a mayor, e ira sumando 1 a cada item para saber cuál es el que falta\n",
        "* Si encuentra un número que no esta en la lista sera añadido a la lista de faltantes\n",
        "* por ultimo la funcion retornara la lista faltantes\n",
        "\n",
        "* se recibe la l ista\n",
        "y se ejecuta la función.\n"
      ],
      "metadata": {
        "id": "2RFl7etMSv8N"
      }
    },
    {
      "cell_type": "code",
      "execution_count": 14,
      "metadata": {
        "id": "RkdYSy6GKlkN"
      },
      "outputs": [],
      "source": [
        "faltantes=[]\n",
        "def main(lista):\n",
        "  lista.sort()\n",
        "  max_num = max(lista)\n",
        "  min_num = min(lista)\n",
        "  for i in range(min_num, max_num +1):\n",
        "    if i not in lista:\n",
        "      faltantes.append(i)\n",
        "  return faltantes"
      ]
    },
    {
      "cell_type": "code",
      "source": [
        "lista= [-3, -1, 0, 1]"
      ],
      "metadata": {
        "id": "4llMDdzuKpUF"
      },
      "execution_count": 15,
      "outputs": []
    },
    {
      "cell_type": "code",
      "source": [
        "faltantes=main(lista)\n",
        "print(faltantes)"
      ],
      "metadata": {
        "colab": {
          "base_uri": "https://localhost:8080/"
        },
        "id": "Owti_ho7NNB0",
        "outputId": "72a437f6-e739-40f2-c060-564f7bb5ba8e"
      },
      "execution_count": 16,
      "outputs": [
        {
          "output_type": "stream",
          "name": "stdout",
          "text": [
            "[-2]\n"
          ]
        }
      ]
    },
    {
      "cell_type": "code",
      "source": [],
      "metadata": {
        "id": "LAHABRw1NQqu"
      },
      "execution_count": null,
      "outputs": []
    }
  ]
}